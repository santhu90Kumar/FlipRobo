{
 "cells": [
  {
   "cell_type": "code",
   "execution_count": 71,
   "id": "91f82886",
   "metadata": {},
   "outputs": [],
   "source": [
    "import selenium\n",
    "import pandas as pd\n",
    "from selenium import webdriver\n",
    "import numpy as np"
   ]
  },
  {
   "cell_type": "code",
   "execution_count": 72,
   "id": "bf736ab6",
   "metadata": {},
   "outputs": [],
   "source": [
    "import warnings\n",
    "warnings.filterwarnings('ignore')"
   ]
  },
  {
   "cell_type": "code",
   "execution_count": 73,
   "id": "5c649c70",
   "metadata": {},
   "outputs": [
    {
     "name": "stdout",
     "output_type": "stream",
     "text": [
      "Requirement already satisfied: undetected-chromedriver in c:\\users\\shubham aggarwal\\anaconda3\\lib\\site-packages (3.0.3)\n",
      "Requirement already satisfied: selenium==4.0.0b4 in c:\\users\\shubham aggarwal\\anaconda3\\lib\\site-packages (from undetected-chromedriver) (4.0.0b4)\n",
      "Requirement already satisfied: websockets in c:\\users\\shubham aggarwal\\anaconda3\\lib\\site-packages (from undetected-chromedriver) (10.0)\n",
      "Requirement already satisfied: requests in c:\\users\\shubham aggarwal\\anaconda3\\lib\\site-packages (from undetected-chromedriver) (2.25.1)\n",
      "Requirement already satisfied: trio~=0.17 in c:\\users\\shubham aggarwal\\anaconda3\\lib\\site-packages (from selenium==4.0.0b4->undetected-chromedriver) (0.19.0)\n",
      "Requirement already satisfied: trio-websocket~=0.9 in c:\\users\\shubham aggarwal\\anaconda3\\lib\\site-packages (from selenium==4.0.0b4->undetected-chromedriver) (0.9.2)\n",
      "Requirement already satisfied: urllib3[secure]~=1.26 in c:\\users\\shubham aggarwal\\anaconda3\\lib\\site-packages (from selenium==4.0.0b4->undetected-chromedriver) (1.26.4)\n",
      "Requirement already satisfied: sniffio in c:\\users\\shubham aggarwal\\anaconda3\\lib\\site-packages (from trio~=0.17->selenium==4.0.0b4->undetected-chromedriver) (1.2.0)\n",
      "Requirement already satisfied: cffi>=1.14 in c:\\users\\shubham aggarwal\\anaconda3\\lib\\site-packages (from trio~=0.17->selenium==4.0.0b4->undetected-chromedriver) (1.14.5)\n",
      "Requirement already satisfied: outcome in c:\\users\\shubham aggarwal\\anaconda3\\lib\\site-packages (from trio~=0.17->selenium==4.0.0b4->undetected-chromedriver) (1.1.0)\n",
      "Requirement already satisfied: attrs>=19.2.0 in c:\\users\\shubham aggarwal\\anaconda3\\lib\\site-packages (from trio~=0.17->selenium==4.0.0b4->undetected-chromedriver) (20.3.0)\n",
      "Requirement already satisfied: async-generator>=1.9 in c:\\users\\shubham aggarwal\\anaconda3\\lib\\site-packages (from trio~=0.17->selenium==4.0.0b4->undetected-chromedriver) (1.10)\n",
      "Requirement already satisfied: idna in c:\\users\\shubham aggarwal\\anaconda3\\lib\\site-packages (from trio~=0.17->selenium==4.0.0b4->undetected-chromedriver) (2.10)\n",
      "Requirement already satisfied: sortedcontainers in c:\\users\\shubham aggarwal\\anaconda3\\lib\\site-packages (from trio~=0.17->selenium==4.0.0b4->undetected-chromedriver) (2.3.0)\n",
      "Requirement already satisfied: pycparser in c:\\users\\shubham aggarwal\\anaconda3\\lib\\site-packages (from cffi>=1.14->trio~=0.17->selenium==4.0.0b4->undetected-chromedriver) (2.20)\n",
      "Requirement already satisfied: wsproto>=0.14 in c:\\users\\shubham aggarwal\\anaconda3\\lib\\site-packages (from trio-websocket~=0.9->selenium==4.0.0b4->undetected-chromedriver) (1.0.0)\n",
      "Requirement already satisfied: pyOpenSSL>=0.14 in c:\\users\\shubham aggarwal\\anaconda3\\lib\\site-packages (from urllib3[secure]~=1.26->selenium==4.0.0b4->undetected-chromedriver) (20.0.1)\n",
      "Requirement already satisfied: cryptography>=1.3.4 in c:\\users\\shubham aggarwal\\anaconda3\\lib\\site-packages (from urllib3[secure]~=1.26->selenium==4.0.0b4->undetected-chromedriver) (3.4.7)\n",
      "Requirement already satisfied: certifi in c:\\users\\shubham aggarwal\\anaconda3\\lib\\site-packages (from urllib3[secure]~=1.26->selenium==4.0.0b4->undetected-chromedriver) (2020.12.5)\n",
      "Requirement already satisfied: six>=1.5.2 in c:\\users\\shubham aggarwal\\anaconda3\\lib\\site-packages (from pyOpenSSL>=0.14->urllib3[secure]~=1.26->selenium==4.0.0b4->undetected-chromedriver) (1.15.0)\n",
      "Requirement already satisfied: h11<1,>=0.9.0 in c:\\users\\shubham aggarwal\\anaconda3\\lib\\site-packages (from wsproto>=0.14->trio-websocket~=0.9->selenium==4.0.0b4->undetected-chromedriver) (0.12.0)\n",
      "Requirement already satisfied: chardet<5,>=3.0.2 in c:\\users\\shubham aggarwal\\anaconda3\\lib\\site-packages (from requests->undetected-chromedriver) (4.0.0)\n"
     ]
    }
   ],
   "source": [
    "!pip install undetected-chromedriver\n"
   ]
  },
  {
   "cell_type": "code",
   "execution_count": 74,
   "id": "f38a39bf",
   "metadata": {},
   "outputs": [],
   "source": [
    "  import undetected_chromedriver.v2 as uc\n",
    "  driver = uc.Chrome(version_main=95)"
   ]
  },
  {
   "cell_type": "code",
   "execution_count": 75,
   "id": "574f815e",
   "metadata": {},
   "outputs": [],
   "source": [
    "url = 'https://www.flipkart.com/boat-airdopes-381-asap-charge-bluetooth-headset/product-reviews/itm350f1ba32ebb0?pid=ACCFMRFXMAGVGAEG&lid=LSTACCFMRFXMAGVGAEGJ0NTWJ&marketplace=FLIPKART&page=1'"
   ]
  },
  {
   "cell_type": "code",
   "execution_count": 76,
   "id": "0674aea3",
   "metadata": {},
   "outputs": [],
   "source": [
    "driver.get(url)"
   ]
  },
  {
   "cell_type": "code",
   "execution_count": 77,
   "id": "0e205e52",
   "metadata": {},
   "outputs": [],
   "source": [
    "pp_=[]"
   ]
  },
  {
   "cell_type": "code",
   "execution_count": 78,
   "id": "97b47a27",
   "metadata": {},
   "outputs": [
    {
     "data": {
      "text/plain": [
       "<selenium.webdriver.remote.webelement.WebElement (session=\"da1c54b9df6de2d65e90a78b17590ea3\", element=\"829d8da6-0e84-461b-863d-64100f4085dc\")>"
      ]
     },
     "execution_count": 78,
     "metadata": {},
     "output_type": "execute_result"
    }
   ],
   "source": [
    "for i in range(1,1950):\n",
    "    try:\n",
    "        pp=driver.find_elements_by_xpath(\"//div[@class='_3LWZlK _1BLPMq']\")\n",
    "        for i in pp:\n",
    "            pp_.append(i.text)\n",
    "            \n",
    "    except:pp_.append('-')\n",
    "        \n",
    "        \n",
    "        \n",
    "btn=driver.find_element_by_xpath(\"//a[@class='_1LKTO3']\")\n",
    "btn"
   ]
  },
  {
   "cell_type": "code",
   "execution_count": 79,
   "id": "5b2c5f1d",
   "metadata": {},
   "outputs": [
    {
     "data": {
      "text/plain": [
       "19490"
      ]
     },
     "execution_count": 79,
     "metadata": {},
     "output_type": "execute_result"
    }
   ],
   "source": [
    "len(pp_)"
   ]
  },
  {
   "cell_type": "code",
   "execution_count": 80,
   "id": "e6955fad",
   "metadata": {},
   "outputs": [],
   "source": [
    "pr_ = []"
   ]
  },
  {
   "cell_type": "code",
   "execution_count": 81,
   "id": "ad6badf3",
   "metadata": {},
   "outputs": [
    {
     "data": {
      "text/plain": [
       "<selenium.webdriver.remote.webelement.WebElement (session=\"da1c54b9df6de2d65e90a78b17590ea3\", element=\"829d8da6-0e84-461b-863d-64100f4085dc\")>"
      ]
     },
     "execution_count": 81,
     "metadata": {},
     "output_type": "execute_result"
    }
   ],
   "source": [
    "for i in range(1,1950):\n",
    "    try:\n",
    "        pr=driver.find_elements_by_xpath(\"//div[@class='t-ZTKy']\")\n",
    "        for i in pr:\n",
    "            pr_.append(i.text)\n",
    "            \n",
    "    except:pr_.append('-')\n",
    "        \n",
    "        \n",
    "        \n",
    "btn=driver.find_element_by_xpath(\"//a[@class='_1LKTO3']\")\n",
    "btn"
   ]
  },
  {
   "cell_type": "code",
   "execution_count": 82,
   "id": "bc945801",
   "metadata": {},
   "outputs": [
    {
     "data": {
      "text/plain": [
       "19490"
      ]
     },
     "execution_count": 82,
     "metadata": {},
     "output_type": "execute_result"
    }
   ],
   "source": [
    "len(pr_)"
   ]
  },
  {
   "cell_type": "code",
   "execution_count": 83,
   "id": "8bfc6ba9",
   "metadata": {},
   "outputs": [],
   "source": [
    "import pandas as pd"
   ]
  },
  {
   "cell_type": "code",
   "execution_count": 87,
   "id": "b2e47915",
   "metadata": {},
   "outputs": [],
   "source": [
    "df=pd.DataFrame()"
   ]
  },
  {
   "cell_type": "code",
   "execution_count": 88,
   "id": "af515e7a",
   "metadata": {},
   "outputs": [],
   "source": [
    "df['ratings']=pp_\n",
    "df['reviews']=pr_"
   ]
  },
  {
   "cell_type": "code",
   "execution_count": 89,
   "id": "8de9435f",
   "metadata": {},
   "outputs": [
    {
     "data": {
      "text/html": [
       "<div><div id=bdcfb2db-16c2-41b3-b3d8-73a61fa8c3c3 style=\"display:none; background-color:#9D6CFF; color:white; width:200px; height:30px; padding-left:5px; border-radius:4px; flex-direction:row; justify-content:space-around; align-items:center;\" onmouseover=\"this.style.backgroundColor='#BA9BF8'\" onmouseout=\"this.style.backgroundColor='#9D6CFF'\" onclick=\"window.commands?.execute('create-mitosheet-from-dataframe-output');\">See Full Dataframe in Mito</div> <script> if (window.commands.hasCommand('create-mitosheet-from-dataframe-output')) document.getElementById('bdcfb2db-16c2-41b3-b3d8-73a61fa8c3c3').style.display = 'flex' </script> <table border=\"1\" class=\"dataframe\">\n",
       "  <thead>\n",
       "    <tr style=\"text-align: right;\">\n",
       "      <th></th>\n",
       "      <th>ratings</th>\n",
       "      <th>reviews</th>\n",
       "    </tr>\n",
       "  </thead>\n",
       "  <tbody>\n",
       "    <tr>\n",
       "      <th>0</th>\n",
       "      <td>5</td>\n",
       "      <td>Loved the product it's an A grade in every sphere be it the quality as well as the colur loved it thank you so much team for delivering it in such a short time 👍 really appreciate it .. ps no second thought just go and grab it before it goes Outta stock ☺️</td>\n",
       "    </tr>\n",
       "    <tr>\n",
       "      <th>1</th>\n",
       "      <td>5</td>\n",
       "      <td>The delivery was super fast......\\n\\nSo writing about the pro's and con's of the product..\\n\\nPro's.....\\n\\n*pairing is lightning speed....\\n*it's very handy...and comfortable in ears....\\n* Can be use while wearing helmets\\n* BASS is awesome......\\n* Battery backup up and is way better than i think...\\n* Touch controls are awesome....\\nCons ...\\nThere's no cons.... brilliant product</td>\n",
       "    </tr>\n",
       "    <tr>\n",
       "      <th>2</th>\n",
       "      <td>5</td>\n",
       "      <td>Bass is excellent 10outof10\\nSound is nice 10outof10\\nBattery backup is very nice 10outof10\\nI think my money was not wasted.\\nOverall best dopes.( i loved )\\n👍👍👍 boAt's all product quality is very niceeee., 👍👌👌👌👌👌👌👌👌\\n( its a premium quality dopes.)\\nI like it colour, sound, bass and battery backup.\\nIts a awesome.</td>\n",
       "    </tr>\n",
       "  </tbody>\n",
       "</table></div>"
      ],
      "text/plain": [
       "  ratings                                            reviews\n",
       "0       5  Loved the product it's an A grade in every sph...\n",
       "1       5  The delivery was super fast......\\n\\nSo writin...\n",
       "2       5  Bass is excellent 10outof10\\nSound is nice 10o..."
      ]
     },
     "execution_count": 89,
     "metadata": {},
     "output_type": "execute_result"
    }
   ],
   "source": [
    "df.head(3)"
   ]
  },
  {
   "cell_type": "code",
   "execution_count": 90,
   "id": "7a0c0370",
   "metadata": {},
   "outputs": [],
   "source": [
    "df['reviews'] = df['reviews'].str.replace(r'^.+@[^\\.].*\\.[a-z]{2,}$',\n",
    "                                 'emailaddress')\n",
    "\n",
    "# Replace URLs with 'webaddress'\n",
    "df['reviews'] = df['reviews'].str.replace(r'^http\\://[a-zA-Z0-9\\-\\.]+\\.[a-zA-Z]{2,3}(/\\S*)?$',\n",
    "                                  'webaddress')\n",
    "\n",
    "# Replace money symbols with 'moneysymb' (£ can by typed with ALT key + 156)\n",
    "df['reviews'] = df['reviews'].str.replace(r'£|\\$', 'dollers')\n",
    "    \n",
    "# Replace 10 digit phone numbers (formats include paranthesis, spaces, no spaces, dashes) with 'phonenumber'\n",
    "df['reviews'] = df['reviews'].str.replace(r'^\\(?[\\d]{3}\\)?[\\s-]?[\\d]{3}[\\s-]?[\\d]{4}$',\n",
    "                                  'phonenumber')\n",
    "\n",
    "    \n",
    "# Replace numbers with 'numbr'\n",
    "df['reviews'] = df['reviews'].str.replace(r'\\d+(\\.\\d+)?', 'numbr')\n",
    "# Remove punctuation\n",
    "df['reviews'] = df['reviews'].str.replace(r'[^\\w\\d\\s]', ' ')\n",
    "\n",
    "# Replace whitespace between terms with a single space\n",
    "df['reviews'] = df['reviews'].str.replace(r'\\s+', ' ')\n",
    "\n",
    "# Remove leading and trailing whitespace\n",
    "df['reviews'] = df['reviews'].str.replace(r'^\\s+|\\s+?$', '')"
   ]
  },
  {
   "cell_type": "code",
   "execution_count": 91,
   "id": "df31ec06",
   "metadata": {},
   "outputs": [
    {
     "data": {
      "text/html": [
       "<div><div id=599111f8-96b6-442a-bd9e-a61bf1ea08c1 style=\"display:none; background-color:#9D6CFF; color:white; width:200px; height:30px; padding-left:5px; border-radius:4px; flex-direction:row; justify-content:space-around; align-items:center;\" onmouseover=\"this.style.backgroundColor='#BA9BF8'\" onmouseout=\"this.style.backgroundColor='#9D6CFF'\" onclick=\"window.commands?.execute('create-mitosheet-from-dataframe-output');\">See Full Dataframe in Mito</div> <script> if (window.commands.hasCommand('create-mitosheet-from-dataframe-output')) document.getElementById('599111f8-96b6-442a-bd9e-a61bf1ea08c1').style.display = 'flex' </script> <table border=\"1\" class=\"dataframe\">\n",
       "  <thead>\n",
       "    <tr style=\"text-align: right;\">\n",
       "      <th></th>\n",
       "      <th>ratings</th>\n",
       "      <th>reviews</th>\n",
       "    </tr>\n",
       "  </thead>\n",
       "  <tbody>\n",
       "    <tr>\n",
       "      <th>0</th>\n",
       "      <td>5</td>\n",
       "      <td>Loved the product it s an A grade in every sphere be it the quality as well as the colur loved it thank you so much team for delivering it in such a short time really appreciate it ps no second thought just go and grab it before it goes Outta stock</td>\n",
       "    </tr>\n",
       "    <tr>\n",
       "      <th>1</th>\n",
       "      <td>5</td>\n",
       "      <td>The delivery was super fast So writing about the pro s and con s of the product Pro s pairing is lightning speed it s very handy and comfortable in ears Can be use while wearing helmets BASS is awesome Battery backup up and is way better than i think Touch controls are awesome Cons There s no cons brilliant product</td>\n",
       "    </tr>\n",
       "    <tr>\n",
       "      <th>2</th>\n",
       "      <td>5</td>\n",
       "      <td>Bass is excellent numbroutofnumbr Sound is nice numbroutofnumbr Battery backup is very nice numbroutofnumbr I think my money was not wasted Overall best dopes i loved boAt s all product quality is very niceeee its a premium quality dopes I like it colour sound bass and battery backup Its a awesome</td>\n",
       "    </tr>\n",
       "    <tr>\n",
       "      <th>3</th>\n",
       "      <td>5</td>\n",
       "      <td>I was finding best earbuds since many year I used so many products but i did not get satisfaction which i want Mainly i was finding that product which is very good in bass which i could not find then i booked this boat earbud and now i am fully satisfied by this product Who is music or movie lover i recommend you for this product I will rate this product In sound numbr numbr when you watch any movie you feel that you watching in cenema hall In bass numbr numbr bass is very good In battery backup READ MORE</td>\n",
       "    </tr>\n",
       "    <tr>\n",
       "      <th>4</th>\n",
       "      <td>5</td>\n",
       "      <td>quality is good for this price its just that i didn t expected that it works even though it fell on the ground so many times It hit on the ground just like a dancing ball countless times its not only good but durable too</td>\n",
       "    </tr>\n",
       "    <tr>\n",
       "      <th>5</th>\n",
       "      <td>5</td>\n",
       "      <td>I gifted to my girlfriend and her review is as below It is very cute pink colour design is sound quality is very nice bass is also good battery back is also nice overall I loved itis really worth product most memorable gift Thank you so much bunny</td>\n",
       "    </tr>\n",
       "    <tr>\n",
       "      <th>6</th>\n",
       "      <td>4</td>\n",
       "      <td>Nyc product value of the money bass is NYS and nrml sound aslo nyc voice clarity is super touch control also super and pairing is very easy and fast also but starting Ear pain we can notice because before we don t have experience on it na that s way after it will okkkk</td>\n",
       "    </tr>\n",
       "    <tr>\n",
       "      <th>7</th>\n",
       "      <td>5</td>\n",
       "      <td>Excellent quality super b I never seen this type of quality before when I saw this I Fully love it excellent company</td>\n",
       "    </tr>\n",
       "    <tr>\n",
       "      <th>8</th>\n",
       "      <td>4</td>\n",
       "      <td>Altogether the sound is good but the case is not up to the mark as I expected bass is good and the treble is also fantastic but according to me this price range is bit higher it need to numbr then it s a worth buy</td>\n",
       "    </tr>\n",
       "    <tr>\n",
       "      <th>9</th>\n",
       "      <td>5</td>\n",
       "      <td>Its best in all but having a size issue It is little bigger if you compare with Real me bud but sound quality is better than any other Thank you</td>\n",
       "    </tr>\n",
       "  </tbody>\n",
       "</table></div>"
      ],
      "text/plain": [
       "  ratings                                            reviews\n",
       "0       5  Loved the product it s an A grade in every sph...\n",
       "1       5  The delivery was super fast So writing about t...\n",
       "2       5  Bass is excellent numbroutofnumbr Sound is nic...\n",
       "3       5  I was finding best earbuds since many year I u...\n",
       "4       5  quality is good for this price its just that i...\n",
       "5       5  I gifted to my girlfriend and her review is as...\n",
       "6       4  Nyc product value of the money bass is NYS and...\n",
       "7       5  Excellent quality super b I never seen this ty...\n",
       "8       4  Altogether the sound is good but the case is n...\n",
       "9       5  Its best in all but having a size issue It is ..."
      ]
     },
     "execution_count": 91,
     "metadata": {},
     "output_type": "execute_result"
    }
   ],
   "source": [
    "df.head(10)"
   ]
  },
  {
   "cell_type": "code",
   "execution_count": 103,
   "id": "beee6d46",
   "metadata": {},
   "outputs": [
    {
     "data": {
      "text/plain": [
       "5    15592\n",
       "4     3898\n",
       "Name: ratings, dtype: int64"
      ]
     },
     "execution_count": 103,
     "metadata": {},
     "output_type": "execute_result"
    }
   ],
   "source": [
    "df['ratings'].value_counts()"
   ]
  },
  {
   "cell_type": "code",
   "execution_count": 92,
   "id": "0299fcd4",
   "metadata": {},
   "outputs": [],
   "source": [
    "from sklearn.feature_extraction.text import TfidfVectorizer\n",
    "from sklearn.model_selection import train_test_split\n",
    "from sklearn.svm import LinearSVC\n",
    "from sklearn.metrics import classification_report"
   ]
  },
  {
   "cell_type": "code",
   "execution_count": 93,
   "id": "ae0869da",
   "metadata": {},
   "outputs": [],
   "source": [
    "tfidf=TfidfVectorizer()"
   ]
  },
  {
   "cell_type": "code",
   "execution_count": 94,
   "id": "96527663",
   "metadata": {},
   "outputs": [],
   "source": [
    "x=tfidf.fit_transform(df['reviews'])\n",
    "y=df['ratings']"
   ]
  },
  {
   "cell_type": "code",
   "execution_count": 95,
   "id": "ac8eec6e",
   "metadata": {},
   "outputs": [
    {
     "data": {
      "text/plain": [
       "(19490, 222)"
      ]
     },
     "execution_count": 95,
     "metadata": {},
     "output_type": "execute_result"
    }
   ],
   "source": [
    "x.shape"
   ]
  },
  {
   "cell_type": "code",
   "execution_count": 96,
   "id": "9dc47f0b",
   "metadata": {},
   "outputs": [
    {
     "data": {
      "text/plain": [
       "(19490,)"
      ]
     },
     "execution_count": 96,
     "metadata": {},
     "output_type": "execute_result"
    }
   ],
   "source": [
    "y.shape"
   ]
  },
  {
   "cell_type": "code",
   "execution_count": 97,
   "id": "4efd29c7",
   "metadata": {},
   "outputs": [],
   "source": [
    "x_train,x_test,y_train,y_test=train_test_split(x,y,test_size=.20,random_state=43)"
   ]
  },
  {
   "cell_type": "code",
   "execution_count": 98,
   "id": "f90ef80c",
   "metadata": {},
   "outputs": [
    {
     "data": {
      "text/plain": [
       "(15592, 222)"
      ]
     },
     "execution_count": 98,
     "metadata": {},
     "output_type": "execute_result"
    }
   ],
   "source": [
    "x_train.shape"
   ]
  },
  {
   "cell_type": "code",
   "execution_count": 99,
   "id": "275148e9",
   "metadata": {},
   "outputs": [
    {
     "data": {
      "text/plain": [
       "LinearSVC()"
      ]
     },
     "execution_count": 99,
     "metadata": {},
     "output_type": "execute_result"
    }
   ],
   "source": [
    "clf=LinearSVC()\n",
    "clf.fit(x_train,y_train)"
   ]
  },
  {
   "cell_type": "code",
   "execution_count": 100,
   "id": "98aa0a43",
   "metadata": {},
   "outputs": [],
   "source": [
    "y_pred=clf.predict(x_test)"
   ]
  },
  {
   "cell_type": "code",
   "execution_count": 101,
   "id": "0b593db7",
   "metadata": {},
   "outputs": [
    {
     "data": {
      "text/plain": [
       "array(['5', '5', '4', ..., '5', '5', '5'], dtype=object)"
      ]
     },
     "execution_count": 101,
     "metadata": {},
     "output_type": "execute_result"
    }
   ],
   "source": [
    "y_pred"
   ]
  },
  {
   "cell_type": "code",
   "execution_count": 102,
   "id": "09a84afa",
   "metadata": {},
   "outputs": [
    {
     "name": "stdout",
     "output_type": "stream",
     "text": [
      "              precision    recall  f1-score   support\n",
      "\n",
      "           4       1.00      1.00      1.00       767\n",
      "           5       1.00      1.00      1.00      3131\n",
      "\n",
      "    accuracy                           1.00      3898\n",
      "   macro avg       1.00      1.00      1.00      3898\n",
      "weighted avg       1.00      1.00      1.00      3898\n",
      "\n"
     ]
    }
   ],
   "source": [
    "print(classification_report(y_test,y_pred))"
   ]
  },
  {
   "cell_type": "code",
   "execution_count": null,
   "id": "a859ff29",
   "metadata": {},
   "outputs": [],
   "source": []
  },
  {
   "cell_type": "code",
   "execution_count": null,
   "id": "6fdf8e62",
   "metadata": {},
   "outputs": [],
   "source": []
  },
  {
   "cell_type": "code",
   "execution_count": null,
   "id": "f194d797",
   "metadata": {},
   "outputs": [],
   "source": []
  }
 ],
 "metadata": {
  "kernelspec": {
   "display_name": "Python 3",
   "language": "python",
   "name": "python3"
  },
  "language_info": {
   "codemirror_mode": {
    "name": "ipython",
    "version": 3
   },
   "file_extension": ".py",
   "mimetype": "text/x-python",
   "name": "python",
   "nbconvert_exporter": "python",
   "pygments_lexer": "ipython3",
   "version": "3.8.8"
  }
 },
 "nbformat": 4,
 "nbformat_minor": 5
}
